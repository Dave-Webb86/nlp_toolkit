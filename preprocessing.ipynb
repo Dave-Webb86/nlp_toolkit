{
 "cells": [
  {
   "cell_type": "markdown",
   "metadata": {},
   "source": [
    "# Preprocessing"
   ]
  },
  {
   "cell_type": "markdown",
   "metadata": {},
   "source": [
    "Function below allows for preprocessing and normalisation of texts for use in further nlp functions\n",
    "- Each process is run separately to allow easy commenting out or addition of further processes as required"
   ]
  },
  {
   "cell_type": "code",
   "execution_count": null,
   "metadata": {},
   "outputs": [],
   "source": [
    "# import required libraries\n",
    "import re\n",
    "import emoji\n",
    "import contractions\n",
    "import string\n",
    "import nltk\n",
    "from nltk.tokenize import word_tokenize\n",
    "from nltk.tokenize.treebank import TreebankWordDetokenizer\n",
    "from nltk.corpus import stopwords\n",
    "nltk.download('stopwords')\n",
    "nltk.download('punkt')\n",
    "\n",
    "def preprocess(text):\n",
    "\n",
    "    '''\n",
    "    Function for text preprocessing before nlp modelling.\n",
    "    Designed to be a list where functions can easily be removed or added as \n",
    "    required by the user.\n",
    "    '''\n",
    "\n",
    "    # remove twitter handles/mentions\n",
    "    text = re.sub('\\B@\\w+', \"\", text)\n",
    "\n",
    "    # remove url links\n",
    "    text = re.sub('(http|https):\\/\\/\\S+', \"\", text)\n",
    "\n",
    "    # remove emojis\n",
    "    text = emoji.demojize(text)\n",
    "\n",
    "    # remove contractions (e.g. I've > I have)\n",
    "    text = contractions.fix(text)\n",
    "\n",
    "    # remove stopwords\n",
    "    token_list = word_tokenize(text)\n",
    "    stop_words = set(stopwords.words('english'))\n",
    "    token_list = [token for token in token_list if token not in stop_words]\n",
    "    text = TreebankWordDetokenizer().detokenize(token_list)\n",
    "\n",
    "    # remove punctuation\n",
    "    token_list = word_tokenize(text)\n",
    "    token_list = [token for token in token_list if token not in string.punctuation]\n",
    "    text = TreebankWordDetokenizer().detokenize(token_list)\n",
    "\n",
    "    # convert to lowecase\n",
    "    text = text.lower()\n",
    "\n",
    "    return text"
   ]
  }
 ],
 "metadata": {
  "language_info": {
   "name": "python"
  },
  "orig_nbformat": 4
 },
 "nbformat": 4,
 "nbformat_minor": 2
}
